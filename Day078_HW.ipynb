{
 "cells": [
  {
   "cell_type": "markdown",
   "metadata": {},
   "source": [
    "## Work\n",
    "1. 請嘗試將 preproc_x 替換成以每筆資料的 min/max 進行標準化至 -1 ~ 1 間，再進行訓練\n",
    "2. 請嘗試將 mlp 疊更深 (e.g 5~10 層)，進行訓練後觀察 learning curve 的走勢\n",
    "3. (optional) 請改用 GPU 進行訓練 (如果你有 GPU 的話)，比較使用 CPU 與 GPU 的訓練速度"
   ]
  },
  {
   "cell_type": "code",
   "execution_count": 1,
   "metadata": {
    "ExecuteTime": {
     "end_time": "2019-12-30T14:31:09.221562Z",
     "start_time": "2019-12-30T14:31:09.211558Z"
    }
   },
   "outputs": [
    {
     "data": {
      "text/plain": [
       "'\\nYour code here (optional)\\n確認硬體資源\\n'"
      ]
     },
     "execution_count": 1,
     "metadata": {},
     "output_type": "execute_result"
    }
   ],
   "source": [
    "## \n",
    "\"\"\"\n",
    "Your code here (optional)\n",
    "確認硬體資源\n",
    "\"\"\"\n"
   ]
  },
  {
   "cell_type": "code",
   "execution_count": 2,
   "metadata": {
    "ExecuteTime": {
     "end_time": "2019-12-30T14:31:12.984236Z",
     "start_time": "2019-12-30T14:31:09.222529Z"
    }
   },
   "outputs": [
    {
     "name": "stderr",
     "output_type": "stream",
     "text": [
      "Using TensorFlow backend.\n"
     ]
    }
   ],
   "source": [
    "import os\n",
    "import keras\n",
    "\n",
    "# 請嘗試設定 GPU：os.environ\n",
    "os.environ[\"CUDA_VISIBLE_DEVICES\"] = \"0\""
   ]
  },
  {
   "cell_type": "code",
   "execution_count": 3,
   "metadata": {
    "ExecuteTime": {
     "end_time": "2019-12-30T14:31:13.466989Z",
     "start_time": "2019-12-30T14:31:12.985230Z"
    }
   },
   "outputs": [],
   "source": [
    "train, test = keras.datasets.cifar10.load_data()"
   ]
  },
  {
   "cell_type": "code",
   "execution_count": 4,
   "metadata": {
    "ExecuteTime": {
     "end_time": "2019-12-30T14:31:13.470965Z",
     "start_time": "2019-12-30T14:31:13.467939Z"
    }
   },
   "outputs": [],
   "source": [
    "x_train, y_train = train"
   ]
  },
  {
   "cell_type": "code",
   "execution_count": 5,
   "metadata": {
    "ExecuteTime": {
     "end_time": "2019-12-30T14:31:13.602191Z",
     "start_time": "2019-12-30T14:31:13.471928Z"
    }
   },
   "outputs": [
    {
     "data": {
      "text/plain": [
       "255"
      ]
     },
     "execution_count": 5,
     "metadata": {},
     "output_type": "execute_result"
    }
   ],
   "source": [
    "x_train.max()"
   ]
  },
  {
   "cell_type": "code",
   "execution_count": 6,
   "metadata": {
    "ExecuteTime": {
     "end_time": "2019-12-30T14:31:13.607163Z",
     "start_time": "2019-12-30T14:31:13.603149Z"
    }
   },
   "outputs": [
    {
     "data": {
      "text/plain": [
       "numpy.ndarray"
      ]
     },
     "execution_count": 6,
     "metadata": {},
     "output_type": "execute_result"
    }
   ],
   "source": [
    "type(x_train)"
   ]
  },
  {
   "cell_type": "code",
   "execution_count": 7,
   "metadata": {
    "ExecuteTime": {
     "end_time": "2019-12-30T14:31:13.698497Z",
     "start_time": "2019-12-30T14:31:13.608136Z"
    }
   },
   "outputs": [
    {
     "data": {
      "text/plain": [
       "0"
      ]
     },
     "execution_count": 7,
     "metadata": {},
     "output_type": "execute_result"
    }
   ],
   "source": [
    "x_train.min()"
   ]
  },
  {
   "cell_type": "code",
   "execution_count": 8,
   "metadata": {
    "ExecuteTime": {
     "end_time": "2019-12-30T14:31:13.705478Z",
     "start_time": "2019-12-30T14:31:13.700491Z"
    }
   },
   "outputs": [],
   "source": [
    "## 資料前處理\n",
    "\"\"\"\n",
    "Your code here\n",
    "\"\"\"\n",
    "def preproc_x(x, flatten=True):\n",
    "    x = ((x - x.min()) / (x.max() - x.min()) - 0.5)*2\n",
    "    if flatten:\n",
    "        x = x.reshape((len(x), -1))\n",
    "    return x\n",
    "\n",
    "def preproc_y(y, num_classes=10):\n",
    "    if y.shape[-1] == 1:\n",
    "        y = keras.utils.to_categorical(y, num_classes)\n",
    "    return y    "
   ]
  },
  {
   "cell_type": "code",
   "execution_count": 9,
   "metadata": {
    "ExecuteTime": {
     "end_time": "2019-12-30T14:31:17.103950Z",
     "start_time": "2019-12-30T14:31:13.707441Z"
    }
   },
   "outputs": [],
   "source": [
    "x_train, y_train = train\n",
    "x_test, y_test = test\n",
    "\n",
    "# Preproc the inputs\n",
    "x_train = preproc_x(x_train)\n",
    "x_test = preproc_x(x_test)\n",
    "\n",
    "# Preprc the outputs\n",
    "y_train = preproc_y(y_train)\n",
    "y_test = preproc_y(y_test)"
   ]
  },
  {
   "cell_type": "code",
   "execution_count": 10,
   "metadata": {
    "ExecuteTime": {
     "end_time": "2019-12-30T14:31:17.189811Z",
     "start_time": "2019-12-30T14:31:17.104947Z"
    }
   },
   "outputs": [
    {
     "name": "stdout",
     "output_type": "stream",
     "text": [
      "_________________________________________________________________\n",
      "Layer (type)                 Output Shape              Param #   \n",
      "=================================================================\n",
      "input_1 (InputLayer)         (None, 3072)              0         \n",
      "_________________________________________________________________\n",
      "hidden_layer1 (Dense)        (None, 512)               1573376   \n",
      "_________________________________________________________________\n",
      "hidden_layer2 (Dense)        (None, 512)               262656    \n",
      "_________________________________________________________________\n",
      "hidden_layer3 (Dense)        (None, 256)               131328    \n",
      "_________________________________________________________________\n",
      "hidden_layer4 (Dense)        (None, 256)               65792     \n",
      "_________________________________________________________________\n",
      "hidden_layer5 (Dense)        (None, 128)               32896     \n",
      "_________________________________________________________________\n",
      "hidden_layer6 (Dense)        (None, 128)               16512     \n",
      "_________________________________________________________________\n",
      "hidden_layer7 (Dense)        (None, 64)                8256      \n",
      "_________________________________________________________________\n",
      "output (Dense)               (None, 10)                650       \n",
      "=================================================================\n",
      "Total params: 2,091,466\n",
      "Trainable params: 2,091,466\n",
      "Non-trainable params: 0\n",
      "_________________________________________________________________\n"
     ]
    }
   ],
   "source": [
    "\"\"\"Code Here\n",
    "建立你的神經網路\n",
    "\"\"\"\n",
    "def build_mlp(input_shape, output_units=10, num_neurons=[512, 512, 256, 256, 128, 128, 64]):\n",
    "    input_layer = keras.layers.Input(input_shape)\n",
    "    \n",
    "    for i, n_units in enumerate(num_neurons):\n",
    "        if i == 0:\n",
    "            x = keras.layers.Dense(units=n_units, activation=\"relu\", name=\"hidden_layer\"+str(i+1))(input_layer)\n",
    "        else:\n",
    "            x = keras.layers.Dense(units=n_units, activation=\"relu\", name=\"hidden_layer\"+str(i+1))(x)\n",
    "    \n",
    "    out = keras.layers.Dense(units=output_units, activation=\"softmax\", name=\"output\")(x)\n",
    "    \n",
    "    model = keras.models.Model(inputs=[input_layer], outputs=[out])\n",
    "    return model\n",
    "\n",
    "model = build_mlp(input_shape=x_train.shape[1:])\n",
    "model.summary()"
   ]
  },
  {
   "cell_type": "code",
   "execution_count": 11,
   "metadata": {
    "ExecuteTime": {
     "end_time": "2019-12-30T14:31:17.194767Z",
     "start_time": "2019-12-30T14:31:17.190777Z"
    }
   },
   "outputs": [],
   "source": [
    "## 超參數設定\n",
    "LEARNING_RATE = 0.001\n",
    "EPOCHS = 100\n",
    "BATCH_SIZE = 256"
   ]
  },
  {
   "cell_type": "code",
   "execution_count": 12,
   "metadata": {
    "ExecuteTime": {
     "end_time": "2019-12-30T14:31:17.275457Z",
     "start_time": "2019-12-30T14:31:17.195764Z"
    }
   },
   "outputs": [],
   "source": [
    "optimizer = keras.optimizers.Adam(lr=LEARNING_RATE)\n",
    "model.compile(loss=\"categorical_crossentropy\", metrics=[\"accuracy\"], optimizer=optimizer)"
   ]
  },
  {
   "cell_type": "code",
   "execution_count": 13,
   "metadata": {
    "ExecuteTime": {
     "end_time": "2019-12-30T14:35:31.620215Z",
     "start_time": "2019-12-30T14:31:17.276423Z"
    }
   },
   "outputs": [
    {
     "name": "stdout",
     "output_type": "stream",
     "text": [
      "Train on 50000 samples, validate on 10000 samples\n",
      "Epoch 1/100\n",
      "50000/50000 [==============================] - 5s 105us/step - loss: 1.7114 - acc: 0.3875 - val_loss: 1.5354 - val_acc: 0.4563\n",
      "Epoch 2/100\n",
      "50000/50000 [==============================] - 3s 50us/step - loss: 1.4722 - acc: 0.4794 - val_loss: 1.4488 - val_acc: 0.4928\n",
      "Epoch 3/100\n",
      "50000/50000 [==============================] - 2s 50us/step - loss: 1.3542 - acc: 0.5216 - val_loss: 1.3869 - val_acc: 0.5123\n",
      "Epoch 4/100\n",
      "50000/50000 [==============================] - 3s 52us/step - loss: 1.2487 - acc: 0.5576 - val_loss: 1.3615 - val_acc: 0.5255\n",
      "Epoch 5/100\n",
      "50000/50000 [==============================] - 3s 51us/step - loss: 1.1620 - acc: 0.5894 - val_loss: 1.3213 - val_acc: 0.5396\n",
      "Epoch 6/100\n",
      "50000/50000 [==============================] - 3s 51us/step - loss: 1.0747 - acc: 0.6184 - val_loss: 1.3685 - val_acc: 0.5242\n",
      "Epoch 7/100\n",
      "50000/50000 [==============================] - 3s 51us/step - loss: 1.0009 - acc: 0.6450 - val_loss: 1.3800 - val_acc: 0.5317\n",
      "Epoch 8/100\n",
      "50000/50000 [==============================] - 3s 51us/step - loss: 0.9176 - acc: 0.6743 - val_loss: 1.4024 - val_acc: 0.5406\n",
      "Epoch 9/100\n",
      "50000/50000 [==============================] - 3s 50us/step - loss: 0.8421 - acc: 0.7038 - val_loss: 1.4768 - val_acc: 0.5452\n",
      "Epoch 10/100\n",
      "50000/50000 [==============================] - 3s 50us/step - loss: 0.7625 - acc: 0.7299 - val_loss: 1.4902 - val_acc: 0.5303\n",
      "Epoch 11/100\n",
      "50000/50000 [==============================] - 3s 51us/step - loss: 0.6892 - acc: 0.7533 - val_loss: 1.5702 - val_acc: 0.5381\n",
      "Epoch 12/100\n",
      "50000/50000 [==============================] - 2s 50us/step - loss: 0.6183 - acc: 0.7797 - val_loss: 1.5864 - val_acc: 0.5419\n",
      "Epoch 13/100\n",
      "50000/50000 [==============================] - 3s 50us/step - loss: 0.5638 - acc: 0.7987 - val_loss: 1.7612 - val_acc: 0.5327\n",
      "Epoch 14/100\n",
      "50000/50000 [==============================] - 3s 50us/step - loss: 0.5053 - acc: 0.8197 - val_loss: 1.8488 - val_acc: 0.5347\n",
      "Epoch 15/100\n",
      "50000/50000 [==============================] - 2s 50us/step - loss: 0.4632 - acc: 0.8360 - val_loss: 1.8459 - val_acc: 0.5387\n",
      "Epoch 16/100\n",
      "50000/50000 [==============================] - 3s 50us/step - loss: 0.4055 - acc: 0.8574 - val_loss: 1.9984 - val_acc: 0.5343\n",
      "Epoch 17/100\n",
      "50000/50000 [==============================] - 3s 50us/step - loss: 0.3725 - acc: 0.8704 - val_loss: 2.0237 - val_acc: 0.5262\n",
      "Epoch 18/100\n",
      "50000/50000 [==============================] - 2s 50us/step - loss: 0.3423 - acc: 0.8808 - val_loss: 2.0996 - val_acc: 0.5417\n",
      "Epoch 19/100\n",
      "50000/50000 [==============================] - 2s 50us/step - loss: 0.3065 - acc: 0.8928 - val_loss: 2.2639 - val_acc: 0.5394\n",
      "Epoch 20/100\n",
      "50000/50000 [==============================] - 2s 50us/step - loss: 0.2882 - acc: 0.9009 - val_loss: 2.1812 - val_acc: 0.5364\n",
      "Epoch 21/100\n",
      "50000/50000 [==============================] - 3s 50us/step - loss: 0.2662 - acc: 0.9079 - val_loss: 2.3049 - val_acc: 0.5346\n",
      "Epoch 22/100\n",
      "50000/50000 [==============================] - 3s 50us/step - loss: 0.2562 - acc: 0.9099 - val_loss: 2.4226 - val_acc: 0.5370\n",
      "Epoch 23/100\n",
      "50000/50000 [==============================] - 2s 50us/step - loss: 0.2290 - acc: 0.9197 - val_loss: 2.4335 - val_acc: 0.5329\n",
      "Epoch 24/100\n",
      "50000/50000 [==============================] - 2s 50us/step - loss: 0.2209 - acc: 0.9232 - val_loss: 2.4878 - val_acc: 0.5306\n",
      "Epoch 25/100\n",
      "50000/50000 [==============================] - 2s 50us/step - loss: 0.2051 - acc: 0.9300 - val_loss: 2.7084 - val_acc: 0.5277\n",
      "Epoch 26/100\n",
      "50000/50000 [==============================] - 3s 50us/step - loss: 0.1939 - acc: 0.9339 - val_loss: 2.5761 - val_acc: 0.5266\n",
      "Epoch 27/100\n",
      "50000/50000 [==============================] - 2s 50us/step - loss: 0.1772 - acc: 0.9389 - val_loss: 2.7819 - val_acc: 0.5275\n",
      "Epoch 28/100\n",
      "50000/50000 [==============================] - 3s 50us/step - loss: 0.1760 - acc: 0.9401 - val_loss: 2.7835 - val_acc: 0.5250\n",
      "Epoch 29/100\n",
      "50000/50000 [==============================] - 2s 50us/step - loss: 0.1655 - acc: 0.9453 - val_loss: 2.8218 - val_acc: 0.5396\n",
      "Epoch 30/100\n",
      "50000/50000 [==============================] - 2s 50us/step - loss: 0.1616 - acc: 0.9446 - val_loss: 2.8205 - val_acc: 0.5381\n",
      "Epoch 31/100\n",
      "50000/50000 [==============================] - 3s 50us/step - loss: 0.1560 - acc: 0.9483 - val_loss: 2.8565 - val_acc: 0.5344\n",
      "Epoch 32/100\n",
      "50000/50000 [==============================] - 3s 51us/step - loss: 0.1468 - acc: 0.9520 - val_loss: 2.8497 - val_acc: 0.5342\n",
      "Epoch 33/100\n",
      "50000/50000 [==============================] - 3s 51us/step - loss: 0.1481 - acc: 0.9504 - val_loss: 2.8025 - val_acc: 0.5409\n",
      "Epoch 34/100\n",
      "50000/50000 [==============================] - 3s 50us/step - loss: 0.1358 - acc: 0.9545 - val_loss: 2.8843 - val_acc: 0.5278\n",
      "Epoch 35/100\n",
      "50000/50000 [==============================] - 2s 50us/step - loss: 0.1312 - acc: 0.9561 - val_loss: 2.8833 - val_acc: 0.5391\n",
      "Epoch 36/100\n",
      "50000/50000 [==============================] - 3s 50us/step - loss: 0.1270 - acc: 0.9581 - val_loss: 2.8628 - val_acc: 0.5388\n",
      "Epoch 37/100\n",
      "50000/50000 [==============================] - 3s 50us/step - loss: 0.1240 - acc: 0.9588 - val_loss: 2.9290 - val_acc: 0.5330\n",
      "Epoch 38/100\n",
      "50000/50000 [==============================] - 3s 51us/step - loss: 0.1163 - acc: 0.9611 - val_loss: 3.0156 - val_acc: 0.5343\n",
      "Epoch 39/100\n",
      "50000/50000 [==============================] - 3s 50us/step - loss: 0.1173 - acc: 0.9607 - val_loss: 3.0329 - val_acc: 0.5318\n",
      "Epoch 40/100\n",
      "50000/50000 [==============================] - 2s 50us/step - loss: 0.1201 - acc: 0.9599 - val_loss: 3.2215 - val_acc: 0.5350\n",
      "Epoch 41/100\n",
      "50000/50000 [==============================] - 3s 50us/step - loss: 0.1130 - acc: 0.9625 - val_loss: 3.0406 - val_acc: 0.5325\n",
      "Epoch 42/100\n",
      "50000/50000 [==============================] - 2s 50us/step - loss: 0.1126 - acc: 0.9631 - val_loss: 3.0757 - val_acc: 0.5317\n",
      "Epoch 43/100\n",
      "50000/50000 [==============================] - 2s 50us/step - loss: 0.1134 - acc: 0.9638 - val_loss: 3.0418 - val_acc: 0.5379\n",
      "Epoch 44/100\n",
      "50000/50000 [==============================] - 3s 50us/step - loss: 0.1015 - acc: 0.9665 - val_loss: 3.0386 - val_acc: 0.5360\n",
      "Epoch 45/100\n",
      "50000/50000 [==============================] - 3s 50us/step - loss: 0.1042 - acc: 0.9651 - val_loss: 3.2154 - val_acc: 0.5371\n",
      "Epoch 46/100\n",
      "50000/50000 [==============================] - 2s 50us/step - loss: 0.0957 - acc: 0.9677 - val_loss: 3.0212 - val_acc: 0.5314\n",
      "Epoch 47/100\n",
      "50000/50000 [==============================] - 2s 50us/step - loss: 0.1023 - acc: 0.9663 - val_loss: 2.9715 - val_acc: 0.5361\n",
      "Epoch 48/100\n",
      "50000/50000 [==============================] - 3s 50us/step - loss: 0.1011 - acc: 0.9663 - val_loss: 3.2145 - val_acc: 0.5311\n",
      "Epoch 49/100\n",
      "50000/50000 [==============================] - 2s 50us/step - loss: 0.1018 - acc: 0.9672 - val_loss: 2.9704 - val_acc: 0.5327\n",
      "Epoch 50/100\n",
      "50000/50000 [==============================] - 2s 50us/step - loss: 0.0920 - acc: 0.9703 - val_loss: 3.0594 - val_acc: 0.5233\n",
      "Epoch 51/100\n",
      "50000/50000 [==============================] - 3s 50us/step - loss: 0.0904 - acc: 0.9701 - val_loss: 3.1127 - val_acc: 0.5348\n",
      "Epoch 52/100\n",
      "50000/50000 [==============================] - 2s 50us/step - loss: 0.0903 - acc: 0.9703 - val_loss: 2.9723 - val_acc: 0.5350\n",
      "Epoch 53/100\n",
      "50000/50000 [==============================] - 3s 50us/step - loss: 0.0849 - acc: 0.9728 - val_loss: 3.0997 - val_acc: 0.5342\n",
      "Epoch 54/100\n",
      "50000/50000 [==============================] - 3s 50us/step - loss: 0.0889 - acc: 0.9715 - val_loss: 3.2075 - val_acc: 0.5310\n",
      "Epoch 55/100\n",
      "50000/50000 [==============================] - 3s 50us/step - loss: 0.0845 - acc: 0.9727 - val_loss: 3.2472 - val_acc: 0.5371\n",
      "Epoch 56/100\n",
      "50000/50000 [==============================] - 2s 50us/step - loss: 0.0863 - acc: 0.9726 - val_loss: 3.1182 - val_acc: 0.5308\n",
      "Epoch 57/100\n",
      "50000/50000 [==============================] - 2s 50us/step - loss: 0.0923 - acc: 0.9702 - val_loss: 3.2967 - val_acc: 0.5358\n",
      "Epoch 58/100\n",
      "50000/50000 [==============================] - 3s 50us/step - loss: 0.0835 - acc: 0.9726 - val_loss: 3.1062 - val_acc: 0.5359\n",
      "Epoch 59/100\n"
     ]
    },
    {
     "name": "stdout",
     "output_type": "stream",
     "text": [
      "50000/50000 [==============================] - 2s 50us/step - loss: 0.0728 - acc: 0.9765 - val_loss: 3.3133 - val_acc: 0.5341\n",
      "Epoch 60/100\n",
      "50000/50000 [==============================] - 3s 51us/step - loss: 0.0714 - acc: 0.9771 - val_loss: 3.2913 - val_acc: 0.5369\n",
      "Epoch 61/100\n",
      "50000/50000 [==============================] - 3s 51us/step - loss: 0.0729 - acc: 0.9765 - val_loss: 3.2233 - val_acc: 0.5347\n",
      "Epoch 62/100\n",
      "50000/50000 [==============================] - 2s 50us/step - loss: 0.0779 - acc: 0.9757 - val_loss: 3.2258 - val_acc: 0.5317\n",
      "Epoch 63/100\n",
      "50000/50000 [==============================] - 2s 50us/step - loss: 0.0783 - acc: 0.9738 - val_loss: 3.1781 - val_acc: 0.5353\n",
      "Epoch 64/100\n",
      "50000/50000 [==============================] - 2s 50us/step - loss: 0.0723 - acc: 0.9767 - val_loss: 3.1290 - val_acc: 0.5388\n",
      "Epoch 65/100\n",
      "50000/50000 [==============================] - 2s 50us/step - loss: 0.0753 - acc: 0.9765 - val_loss: 3.1611 - val_acc: 0.5273\n",
      "Epoch 66/100\n",
      "50000/50000 [==============================] - 2s 50us/step - loss: 0.0629 - acc: 0.9800 - val_loss: 3.1652 - val_acc: 0.5428\n",
      "Epoch 67/100\n",
      "50000/50000 [==============================] - 2s 50us/step - loss: 0.0742 - acc: 0.9776 - val_loss: 3.4361 - val_acc: 0.5431\n",
      "Epoch 68/100\n",
      "50000/50000 [==============================] - 2s 50us/step - loss: 0.0758 - acc: 0.9755 - val_loss: 3.3180 - val_acc: 0.5386\n",
      "Epoch 69/100\n",
      "50000/50000 [==============================] - 2s 50us/step - loss: 0.0793 - acc: 0.9744 - val_loss: 3.2761 - val_acc: 0.5365\n",
      "Epoch 70/100\n",
      "50000/50000 [==============================] - 2s 50us/step - loss: 0.0713 - acc: 0.9777 - val_loss: 3.3587 - val_acc: 0.5351\n",
      "Epoch 71/100\n",
      "50000/50000 [==============================] - 2s 50us/step - loss: 0.0652 - acc: 0.9793 - val_loss: 3.1609 - val_acc: 0.5344\n",
      "Epoch 72/100\n",
      "50000/50000 [==============================] - 2s 50us/step - loss: 0.0723 - acc: 0.9774 - val_loss: 3.3750 - val_acc: 0.5339\n",
      "Epoch 73/100\n",
      "50000/50000 [==============================] - 3s 50us/step - loss: 0.0645 - acc: 0.9793 - val_loss: 3.3609 - val_acc: 0.5400\n",
      "Epoch 74/100\n",
      "50000/50000 [==============================] - 2s 50us/step - loss: 0.0670 - acc: 0.9781 - val_loss: 3.1858 - val_acc: 0.5388\n",
      "Epoch 75/100\n",
      "50000/50000 [==============================] - 2s 50us/step - loss: 0.0618 - acc: 0.9800 - val_loss: 3.3343 - val_acc: 0.5354\n",
      "Epoch 76/100\n",
      "50000/50000 [==============================] - 2s 50us/step - loss: 0.0651 - acc: 0.9785 - val_loss: 3.5083 - val_acc: 0.5302\n",
      "Epoch 77/100\n",
      "50000/50000 [==============================] - 2s 50us/step - loss: 0.0640 - acc: 0.9795 - val_loss: 3.3087 - val_acc: 0.5353\n",
      "Epoch 78/100\n",
      "50000/50000 [==============================] - 2s 50us/step - loss: 0.0664 - acc: 0.9790 - val_loss: 3.4367 - val_acc: 0.5365\n",
      "Epoch 79/100\n",
      "50000/50000 [==============================] - 2s 50us/step - loss: 0.0573 - acc: 0.9814 - val_loss: 3.4450 - val_acc: 0.5358\n",
      "Epoch 80/100\n",
      "50000/50000 [==============================] - 2s 50us/step - loss: 0.0590 - acc: 0.9814 - val_loss: 3.2923 - val_acc: 0.5270\n",
      "Epoch 81/100\n",
      "50000/50000 [==============================] - 2s 50us/step - loss: 0.0606 - acc: 0.9812 - val_loss: 3.4296 - val_acc: 0.5342\n",
      "Epoch 82/100\n",
      "50000/50000 [==============================] - 2s 50us/step - loss: 0.0613 - acc: 0.9811 - val_loss: 3.2861 - val_acc: 0.5362\n",
      "Epoch 83/100\n",
      "50000/50000 [==============================] - 2s 50us/step - loss: 0.0542 - acc: 0.9828 - val_loss: 3.3248 - val_acc: 0.5368\n",
      "Epoch 84/100\n",
      "50000/50000 [==============================] - 2s 50us/step - loss: 0.0543 - acc: 0.9833 - val_loss: 3.2301 - val_acc: 0.5343\n",
      "Epoch 85/100\n",
      "50000/50000 [==============================] - 2s 50us/step - loss: 0.0455 - acc: 0.9858 - val_loss: 3.5089 - val_acc: 0.5337\n",
      "Epoch 86/100\n",
      "50000/50000 [==============================] - 2s 50us/step - loss: 0.0628 - acc: 0.9799 - val_loss: 3.2388 - val_acc: 0.5342\n",
      "Epoch 87/100\n",
      "50000/50000 [==============================] - 2s 50us/step - loss: 0.0498 - acc: 0.9841 - val_loss: 3.3056 - val_acc: 0.5294\n",
      "Epoch 88/100\n",
      "50000/50000 [==============================] - 3s 50us/step - loss: 0.0628 - acc: 0.9805 - val_loss: 3.3470 - val_acc: 0.5406\n",
      "Epoch 89/100\n",
      "50000/50000 [==============================] - 2s 50us/step - loss: 0.0469 - acc: 0.9847 - val_loss: 3.4984 - val_acc: 0.5297\n",
      "Epoch 90/100\n",
      "50000/50000 [==============================] - 2s 50us/step - loss: 0.0716 - acc: 0.9779 - val_loss: 3.4597 - val_acc: 0.5348\n",
      "Epoch 91/100\n",
      "50000/50000 [==============================] - 3s 51us/step - loss: 0.0546 - acc: 0.9825 - val_loss: 3.3321 - val_acc: 0.5298\n",
      "Epoch 92/100\n",
      "50000/50000 [==============================] - 3s 52us/step - loss: 0.0531 - acc: 0.9830 - val_loss: 3.3739 - val_acc: 0.5320\n",
      "Epoch 93/100\n",
      "50000/50000 [==============================] - 3s 52us/step - loss: 0.0571 - acc: 0.9818 - val_loss: 3.4375 - val_acc: 0.5352\n",
      "Epoch 94/100\n",
      "50000/50000 [==============================] - 3s 55us/step - loss: 0.0501 - acc: 0.9839 - val_loss: 3.2624 - val_acc: 0.5481\n",
      "Epoch 95/100\n",
      "50000/50000 [==============================] - 3s 52us/step - loss: 0.0498 - acc: 0.9844 - val_loss: 3.5857 - val_acc: 0.5277\n",
      "Epoch 96/100\n",
      "50000/50000 [==============================] - 3s 51us/step - loss: 0.0469 - acc: 0.9850 - val_loss: 3.4815 - val_acc: 0.5390\n",
      "Epoch 97/100\n",
      "50000/50000 [==============================] - 3s 53us/step - loss: 0.0538 - acc: 0.9841 - val_loss: 3.4108 - val_acc: 0.5392\n",
      "Epoch 98/100\n",
      "50000/50000 [==============================] - 3s 50us/step - loss: 0.0587 - acc: 0.9812 - val_loss: 3.3791 - val_acc: 0.5415\n",
      "Epoch 99/100\n",
      "50000/50000 [==============================] - 2s 49us/step - loss: 0.0424 - acc: 0.9865 - val_loss: 3.4017 - val_acc: 0.5422\n",
      "Epoch 100/100\n",
      "50000/50000 [==============================] - 2s 50us/step - loss: 0.0518 - acc: 0.9839 - val_loss: 3.2757 - val_acc: 0.5370\n"
     ]
    },
    {
     "data": {
      "text/plain": [
       "<keras.callbacks.History at 0x2cbcda97cc0>"
      ]
     },
     "execution_count": 13,
     "metadata": {},
     "output_type": "execute_result"
    }
   ],
   "source": [
    "model.fit(x_train, y_train, \n",
    "          epochs=EPOCHS, \n",
    "          batch_size=BATCH_SIZE, \n",
    "          validation_data=(x_test, y_test), \n",
    "          shuffle=True)"
   ]
  },
  {
   "cell_type": "code",
   "execution_count": 15,
   "metadata": {
    "ExecuteTime": {
     "end_time": "2019-12-30T14:36:01.054407Z",
     "start_time": "2019-12-30T14:36:00.823232Z"
    }
   },
   "outputs": [
    {
     "name": "stdout",
     "output_type": "stream",
     "text": [
      "Populating the interactive namespace from numpy and matplotlib\n"
     ]
    },
    {
     "name": "stderr",
     "output_type": "stream",
     "text": [
      "C:\\Users\\William\\Anaconda3\\envs\\cd1\\lib\\site-packages\\IPython\\core\\magics\\pylab.py:160: UserWarning: pylab import has clobbered these variables: ['test']\n",
      "`%matplotlib` prevents importing * from pylab and numpy\n",
      "  \"\\n`%matplotlib` prevents importing * from pylab and numpy\"\n"
     ]
    },
    {
     "data": {
      "image/png": "[encoded data removed]",
      "text/plain": [
       "<Figure size 432x288 with 1 Axes>"
      ]
     },
     "metadata": {
      "needs_background": "light"
     },
     "output_type": "display_data"
    },
    {
     "data": {
      "image/png": "[encoded data removed]",
      "text/plain": [
       "<Figure size 432x288 with 1 Axes>"
      ]
     },
     "metadata": {
      "needs_background": "light"
     },
     "output_type": "display_data"
    }
   ],
   "source": [
    "%pylab inline\n",
    "import matplotlib.pyplot as plt\n",
    "\n",
    "\n",
    "train_loss = model.history.history[\"loss\"]\n",
    "valid_loss = model.history.history[\"val_loss\"]\n",
    "\n",
    "train_acc = model.history.history[\"acc\"]\n",
    "valid_acc = model.history.history[\"val_acc\"]\n",
    "\n",
    "plt.plot(range(len(train_loss)), train_loss, label=\"train loss\")\n",
    "plt.plot(range(len(valid_loss)), valid_loss, label=\"valid loss\")\n",
    "plt.legend()\n",
    "plt.title(\"Loss\")\n",
    "plt.show()\n",
    "\n",
    "plt.plot(range(len(train_acc)), train_acc, label=\"train accuracy\")\n",
    "plt.plot(range(len(valid_acc)), valid_acc, label=\"valid accuracy\")\n",
    "plt.legend()\n",
    "plt.title(\"Accuracy\")\n",
    "plt.show()"
   ]
  },
  {
   "cell_type": "code",
   "execution_count": null,
   "metadata": {},
   "outputs": [],
   "source": []
  }
 ],
 "metadata": {
  "hide_input": false,
  "kernelspec": {
   "display_name": "Python 3",
   "language": "python",
   "name": "python3"
  },
  "language_info": {
   "codemirror_mode": {
    "name": "ipython",
    "version": 3
   },
   "file_extension": ".py",
   "mimetype": "text/x-python",
   "name": "python",
   "nbconvert_exporter": "python",
   "pygments_lexer": "ipython3",
   "version": "3.5.6"
  },
  "toc": {
   "base_numbering": 1,
   "nav_menu": {},
   "number_sections": true,
   "sideBar": true,
   "skip_h1_title": false,
   "title_cell": "Table of Contents",
   "title_sidebar": "Contents",
   "toc_cell": false,
   "toc_position": {},
   "toc_section_display": true,
   "toc_window_display": false
  },
  "varInspector": {
   "cols": {
    "lenName": 16,
    "lenType": 16,
    "lenVar": 40
   },
   "kernels_config": {
    "python": {
     "delete_cmd_postfix": "",
     "delete_cmd_prefix": "del ",
     "library": "var_list.py",
     "varRefreshCmd": "print(var_dic_list())"
    },
    "r": {
     "delete_cmd_postfix": ") ",
     "delete_cmd_prefix": "rm(",
     "library": "var_list.r",
     "varRefreshCmd": "cat(var_dic_list()) "
    }
   },
   "types_to_exclude": [
    "module",
    "function",
    "builtin_function_or_method",
    "instance",
    "_Feature"
   ],
   "window_display": false
  }
 },
 "nbformat": 4,
 "nbformat_minor": 2
}
