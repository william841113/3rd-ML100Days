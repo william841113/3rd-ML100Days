{
 "cells": [
  {
   "cell_type": "markdown",
   "metadata": {},
   "source": [
    "# 作業目標:\n",
    "\n",
    "    使用CIFAR100, 數據集變大的影響\n",
    "    \n",
    "    \n",
    "# 作業重點:¶\n",
    "\n",
    "   了解 CIFAR100 跟 CIFAR10 數據及差異\n"
   ]
  },
  {
   "cell_type": "code",
   "execution_count": 1,
   "metadata": {
    "ExecuteTime": {
     "end_time": "2019-12-11T10:18:06.535264Z",
     "start_time": "2019-12-11T10:17:59.992841Z"
    }
   },
   "outputs": [
    {
     "name": "stderr",
     "output_type": "stream",
     "text": [
      "Using TensorFlow backend.\n"
     ]
    }
   ],
   "source": [
    "import numpy\n",
    "from keras.datasets import cifar100\n",
    "import numpy as np\n",
    "np.random.seed(100)"
   ]
  },
  {
   "cell_type": "markdown",
   "metadata": {},
   "source": [
    "# 資料準備"
   ]
  },
  {
   "cell_type": "code",
   "execution_count": 2,
   "metadata": {
    "ExecuteTime": {
     "end_time": "2019-12-11T10:18:07.196831Z",
     "start_time": "2019-12-11T10:18:06.535264Z"
    }
   },
   "outputs": [],
   "source": [
    "(x_img_train,y_label_train), \\\n",
    "(x_img_test, y_label_test)=cifar100.load_data()"
   ]
  },
  {
   "cell_type": "code",
   "execution_count": 3,
   "metadata": {
    "ExecuteTime": {
     "end_time": "2019-12-11T10:18:07.205949Z",
     "start_time": "2019-12-11T10:18:07.196831Z"
    }
   },
   "outputs": [],
   "source": [
    "# def unpickle(file):\n",
    "#     import pickle\n",
    "#     with open(file, 'rb') as fo:\n",
    "#         dict = pickle.load(fo, encoding='bytes')\n",
    "#     return dict"
   ]
  },
  {
   "cell_type": "code",
   "execution_count": 4,
   "metadata": {
    "ExecuteTime": {
     "end_time": "2019-12-11T10:18:07.215923Z",
     "start_time": "2019-12-11T10:18:07.208942Z"
    }
   },
   "outputs": [],
   "source": [
    "# unpickle(r'C:\\Users\\William.Hsieh\\Desktop\\100\\data\\cifar-100-python.tar.gz')"
   ]
  },
  {
   "cell_type": "code",
   "execution_count": 5,
   "metadata": {
    "ExecuteTime": {
     "end_time": "2019-12-11T10:18:07.229886Z",
     "start_time": "2019-12-11T10:18:07.217919Z"
    }
   },
   "outputs": [],
   "source": [
    "list1 = list(np.arange(0,100))"
   ]
  },
  {
   "cell_type": "code",
   "execution_count": 6,
   "metadata": {
    "ExecuteTime": {
     "end_time": "2019-12-11T10:18:07.245846Z",
     "start_time": "2019-12-11T10:18:07.232879Z"
    }
   },
   "outputs": [],
   "source": [
    "list2 = ['apple', # id 0\n",
    "'aquarium_fish',\n",
    "'baby',\n",
    "'bear',\n",
    "'beaver',\n",
    "'bed',\n",
    "'bee',\n",
    "'beetle',\n",
    "'bicycle',\n",
    "'bottle',\n",
    "'bowl',\n",
    "'boy',\n",
    "'bridge',\n",
    "'bus',\n",
    "'butterfly',\n",
    "'camel',\n",
    "'can',\n",
    "'castle',\n",
    "'caterpillar',\n",
    "'cattle',\n",
    "'chair',\n",
    "'chimpanzee',\n",
    "'clock',\n",
    "'cloud',\n",
    "'cockroach',\n",
    "'couch',\n",
    "'crab',\n",
    "'crocodile',\n",
    "'cup',\n",
    "'dinosaur',\n",
    "'dolphin',\n",
    "'elephant',\n",
    "'flatfish',\n",
    "'forest',\n",
    "'fox',\n",
    "'girl',\n",
    "'hamster',\n",
    "'house',\n",
    "'kangaroo',\n",
    "'computer_keyboard',\n",
    "'lamp',\n",
    "'lawn_mower',\n",
    "'leopard',\n",
    "'lion',\n",
    "'lizard',\n",
    "'lobster',\n",
    "'man',\n",
    "'maple_tree',\n",
    "'motorcycle',\n",
    "'mountain',\n",
    "'mouse',\n",
    "'mushroom',\n",
    "'oak_tree',\n",
    "'orange',\n",
    "'orchid',\n",
    "'otter',\n",
    "'palm_tree',\n",
    "'pear',\n",
    "'pickup_truck',\n",
    "'pine_tree',\n",
    "'plain',\n",
    "'plate',\n",
    "'poppy',\n",
    "'porcupine',\n",
    "'possum',\n",
    "'rabbit',\n",
    "'raccoon',\n",
    "'ray',\n",
    "'road',\n",
    "'rocket',\n",
    "'rose',\n",
    "'sea',\n",
    "'seal',\n",
    "'shark',\n",
    "'shrew',\n",
    "'skunk',\n",
    "'skyscraper',\n",
    "'snail',\n",
    "'snake',\n",
    "'spider',\n",
    "'squirrel',\n",
    "'streetcar',\n",
    "'sunflower',\n",
    "'sweet_pepper',\n",
    "'table',\n",
    "'tank',\n",
    "'telephone',\n",
    "'television',\n",
    "'tiger',\n",
    "'tractor',\n",
    "'train',\n",
    "'trout',\n",
    "'tulip',\n",
    "'turtle',\n",
    "'wardrobe',\n",
    "'whale',\n",
    "'willow_tree',\n",
    "'wolf',\n",
    "'woman',\n",
    "'worm',\n",
    "]"
   ]
  },
  {
   "cell_type": "code",
   "execution_count": 7,
   "metadata": {
    "ExecuteTime": {
     "end_time": "2019-12-11T10:18:07.258817Z",
     "start_time": "2019-12-11T10:18:07.249831Z"
    },
    "scrolled": true
   },
   "outputs": [],
   "source": [
    "#針對物件圖像數據集的類別編列成字典\n",
    "\n",
    "label_dict = dict( zip( list1, list2))"
   ]
  },
  {
   "cell_type": "code",
   "execution_count": 8,
   "metadata": {
    "ExecuteTime": {
     "end_time": "2019-12-11T10:18:07.273769Z",
     "start_time": "2019-12-11T10:18:07.261801Z"
    }
   },
   "outputs": [
    {
     "name": "stdout",
     "output_type": "stream",
     "text": [
      "train: 50000\n",
      "test : 10000\n"
     ]
    }
   ],
   "source": [
    "print('train:',len(x_img_train))\n",
    "print('test :',len(x_img_test))"
   ]
  },
  {
   "cell_type": "code",
   "execution_count": 9,
   "metadata": {
    "ExecuteTime": {
     "end_time": "2019-12-11T10:18:07.291756Z",
     "start_time": "2019-12-11T10:18:07.276760Z"
    }
   },
   "outputs": [
    {
     "data": {
      "text/plain": [
       "(50000, 32, 32, 3)"
      ]
     },
     "execution_count": 9,
     "metadata": {},
     "output_type": "execute_result"
    }
   ],
   "source": [
    "# 查詢檔案維度資訊\n",
    "x_img_train.shape"
   ]
  },
  {
   "cell_type": "code",
   "execution_count": 10,
   "metadata": {
    "ExecuteTime": {
     "end_time": "2019-12-11T10:18:07.303739Z",
     "start_time": "2019-12-11T10:18:07.294714Z"
    }
   },
   "outputs": [
    {
     "data": {
      "text/plain": [
       "(50000, 1)"
      ]
     },
     "execution_count": 10,
     "metadata": {},
     "output_type": "execute_result"
    }
   ],
   "source": [
    "# 查詢檔案維度資訊\n",
    "y_label_train.shape"
   ]
  },
  {
   "cell_type": "code",
   "execution_count": 11,
   "metadata": {
    "ExecuteTime": {
     "end_time": "2019-12-11T10:18:07.316719Z",
     "start_time": "2019-12-11T10:18:07.305683Z"
    }
   },
   "outputs": [
    {
     "data": {
      "text/plain": [
       "(10000, 32, 32, 3)"
      ]
     },
     "execution_count": 11,
     "metadata": {},
     "output_type": "execute_result"
    }
   ],
   "source": [
    "# 查詢檔案維度資訊\n",
    "x_img_test.shape"
   ]
  },
  {
   "cell_type": "code",
   "execution_count": 12,
   "metadata": {
    "ExecuteTime": {
     "end_time": "2019-12-11T10:18:07.329686Z",
     "start_time": "2019-12-11T10:18:07.317651Z"
    }
   },
   "outputs": [
    {
     "data": {
      "text/plain": [
       "(10000, 1)"
      ]
     },
     "execution_count": 12,
     "metadata": {},
     "output_type": "execute_result"
    }
   ],
   "source": [
    "# 查詢檔案維度資訊\n",
    "y_label_test.shape"
   ]
  },
  {
   "cell_type": "code",
   "execution_count": 13,
   "metadata": {
    "ExecuteTime": {
     "end_time": "2019-12-11T10:18:07.830334Z",
     "start_time": "2019-12-11T10:18:07.332612Z"
    }
   },
   "outputs": [],
   "source": [
    "#導入影像列印模組\n",
    "import matplotlib.pyplot as plt\n",
    "\n",
    "#宣告一個影像標記的函數\n",
    "def plot_images_labels_prediction(images,labels,prediction,\n",
    "                                  idx,num=10):\n",
    "    fig = plt.gcf()\n",
    "    fig.set_size_inches(12, 14)\n",
    "    if num>25: num=25 \n",
    "    for i in range(0, num):\n",
    "        ax=plt.subplot(5,5, 1+i)\n",
    "        ax.imshow(images[idx],cmap='binary')\n",
    "                \n",
    "        title=str(i)+','+label_dict[labels[i][0]]\n",
    "        if len(prediction)>0:\n",
    "            title+='=>'+label_dict[prediction[i]]\n",
    "            \n",
    "        ax.set_title(title,fontsize=10) \n",
    "        \n",
    "        ax.set_xticks([]);ax.set_yticks([])        \n",
    "        idx+=1 \n",
    "    plt.show()"
   ]
  },
  {
   "cell_type": "code",
   "execution_count": 14,
   "metadata": {
    "ExecuteTime": {
     "end_time": "2019-12-11T10:18:08.197298Z",
     "start_time": "2019-12-11T10:18:07.832273Z"
    },
    "scrolled": true
   },
   "outputs": [
    {
     "data": {
      "image/png": "[encoded data removed]",
      "text/plain": [
       "<Figure size 864x1008 with 10 Axes>"
      ]
     },
     "metadata": {},
     "output_type": "display_data"
    }
   ],
   "source": [
    "#針對不同的影像作標記\n",
    "\n",
    "plot_images_labels_prediction(x_img_train,y_label_train,[],0,num=10)"
   ]
  },
  {
   "cell_type": "code",
   "execution_count": 15,
   "metadata": {
    "ExecuteTime": {
     "end_time": "2019-12-11T10:18:08.203318Z",
     "start_time": "2019-12-11T10:18:08.199293Z"
    },
    "scrolled": false
   },
   "outputs": [
    {
     "name": "stdout",
     "output_type": "stream",
     "text": [
      "x_img_test: (10000, 32, 32, 3)\n",
      "y_label_test : (10000, 1)\n"
     ]
    }
   ],
   "source": [
    "print('x_img_test:',x_img_test.shape)\n",
    "print('y_label_test :',y_label_test.shape)"
   ]
  },
  {
   "cell_type": "code",
   "execution_count": null,
   "metadata": {},
   "outputs": [],
   "source": []
  },
  {
   "cell_type": "markdown",
   "metadata": {},
   "source": [
    "# Image normalize "
   ]
  },
  {
   "cell_type": "code",
   "execution_count": 16,
   "metadata": {
    "ExecuteTime": {
     "end_time": "2019-12-11T10:18:08.222238Z",
     "start_time": "2019-12-11T10:18:08.204279Z"
    }
   },
   "outputs": [
    {
     "data": {
      "text/plain": [
       "array([255, 255, 255], dtype=uint8)"
      ]
     },
     "execution_count": 16,
     "metadata": {},
     "output_type": "execute_result"
    }
   ],
   "source": [
    "x_img_train[0][0][0]"
   ]
  },
  {
   "cell_type": "code",
   "execution_count": 17,
   "metadata": {
    "ExecuteTime": {
     "end_time": "2019-12-11T10:18:10.497238Z",
     "start_time": "2019-12-11T10:18:08.226223Z"
    }
   },
   "outputs": [],
   "source": [
    "x_img_train_normalize = x_img_train.astype('float32') / 255.0\n",
    "x_img_test_normalize = x_img_test.astype('float32') / 255.0"
   ]
  },
  {
   "cell_type": "code",
   "execution_count": 18,
   "metadata": {
    "ExecuteTime": {
     "end_time": "2019-12-11T10:18:10.533067Z",
     "start_time": "2019-12-11T10:18:10.512801Z"
    },
    "scrolled": true
   },
   "outputs": [
    {
     "data": {
      "text/plain": [
       "array([1., 1., 1.], dtype=float32)"
      ]
     },
     "execution_count": 18,
     "metadata": {},
     "output_type": "execute_result"
    }
   ],
   "source": [
    "x_img_train_normalize[0][0][0]"
   ]
  },
  {
   "cell_type": "code",
   "execution_count": null,
   "metadata": {},
   "outputs": [],
   "source": []
  },
  {
   "cell_type": "markdown",
   "metadata": {},
   "source": [
    "# 轉換label 為OneHot Encoding"
   ]
  },
  {
   "cell_type": "code",
   "execution_count": 19,
   "metadata": {
    "ExecuteTime": {
     "end_time": "2019-12-11T10:18:10.550023Z",
     "start_time": "2019-12-11T10:18:10.535062Z"
    }
   },
   "outputs": [
    {
     "data": {
      "text/plain": [
       "(50000, 1)"
      ]
     },
     "execution_count": 19,
     "metadata": {},
     "output_type": "execute_result"
    }
   ],
   "source": [
    "y_label_train.shape"
   ]
  },
  {
   "cell_type": "code",
   "execution_count": 20,
   "metadata": {
    "ExecuteTime": {
     "end_time": "2019-12-11T10:18:10.566978Z",
     "start_time": "2019-12-11T10:18:10.553015Z"
    }
   },
   "outputs": [
    {
     "data": {
      "text/plain": [
       "array([[19],\n",
       "       [29],\n",
       "       [ 0],\n",
       "       [11],\n",
       "       [ 1]])"
      ]
     },
     "execution_count": 20,
     "metadata": {},
     "output_type": "execute_result"
    }
   ],
   "source": [
    "y_label_train[:5]"
   ]
  },
  {
   "cell_type": "code",
   "execution_count": 21,
   "metadata": {
    "ExecuteTime": {
     "end_time": "2019-12-11T10:18:10.591740Z",
     "start_time": "2019-12-11T10:18:10.569967Z"
    }
   },
   "outputs": [],
   "source": [
    "from keras.utils import np_utils\n",
    "y_label_train_OneHot = np_utils.to_categorical(y_label_train)\n",
    "y_label_test_OneHot = np_utils.to_categorical(y_label_test)"
   ]
  },
  {
   "cell_type": "code",
   "execution_count": 22,
   "metadata": {
    "ExecuteTime": {
     "end_time": "2019-12-11T10:18:10.607404Z",
     "start_time": "2019-12-11T10:18:10.591740Z"
    }
   },
   "outputs": [
    {
     "data": {
      "text/plain": [
       "(50000, 100)"
      ]
     },
     "execution_count": 22,
     "metadata": {},
     "output_type": "execute_result"
    }
   ],
   "source": [
    "y_label_train_OneHot.shape"
   ]
  },
  {
   "cell_type": "code",
   "execution_count": 23,
   "metadata": {
    "ExecuteTime": {
     "end_time": "2019-12-11T10:18:10.638632Z",
     "start_time": "2019-12-11T10:18:10.607404Z"
    },
    "scrolled": true
   },
   "outputs": [
    {
     "data": {
      "text/plain": [
       "array([[0., 0., 0., 0., 0., 0., 0., 0., 0., 0., 0., 0., 0., 0., 0., 0.,\n",
       "        0., 0., 0., 1., 0., 0., 0., 0., 0., 0., 0., 0., 0., 0., 0., 0.,\n",
       "        0., 0., 0., 0., 0., 0., 0., 0., 0., 0., 0., 0., 0., 0., 0., 0.,\n",
       "        0., 0., 0., 0., 0., 0., 0., 0., 0., 0., 0., 0., 0., 0., 0., 0.,\n",
       "        0., 0., 0., 0., 0., 0., 0., 0., 0., 0., 0., 0., 0., 0., 0., 0.,\n",
       "        0., 0., 0., 0., 0., 0., 0., 0., 0., 0., 0., 0., 0., 0., 0., 0.,\n",
       "        0., 0., 0., 0.],\n",
       "       [0., 0., 0., 0., 0., 0., 0., 0., 0., 0., 0., 0., 0., 0., 0., 0.,\n",
       "        0., 0., 0., 0., 0., 0., 0., 0., 0., 0., 0., 0., 0., 1., 0., 0.,\n",
       "        0., 0., 0., 0., 0., 0., 0., 0., 0., 0., 0., 0., 0., 0., 0., 0.,\n",
       "        0., 0., 0., 0., 0., 0., 0., 0., 0., 0., 0., 0., 0., 0., 0., 0.,\n",
       "        0., 0., 0., 0., 0., 0., 0., 0., 0., 0., 0., 0., 0., 0., 0., 0.,\n",
       "        0., 0., 0., 0., 0., 0., 0., 0., 0., 0., 0., 0., 0., 0., 0., 0.,\n",
       "        0., 0., 0., 0.],\n",
       "       [1., 0., 0., 0., 0., 0., 0., 0., 0., 0., 0., 0., 0., 0., 0., 0.,\n",
       "        0., 0., 0., 0., 0., 0., 0., 0., 0., 0., 0., 0., 0., 0., 0., 0.,\n",
       "        0., 0., 0., 0., 0., 0., 0., 0., 0., 0., 0., 0., 0., 0., 0., 0.,\n",
       "        0., 0., 0., 0., 0., 0., 0., 0., 0., 0., 0., 0., 0., 0., 0., 0.,\n",
       "        0., 0., 0., 0., 0., 0., 0., 0., 0., 0., 0., 0., 0., 0., 0., 0.,\n",
       "        0., 0., 0., 0., 0., 0., 0., 0., 0., 0., 0., 0., 0., 0., 0., 0.,\n",
       "        0., 0., 0., 0.],\n",
       "       [0., 0., 0., 0., 0., 0., 0., 0., 0., 0., 0., 1., 0., 0., 0., 0.,\n",
       "        0., 0., 0., 0., 0., 0., 0., 0., 0., 0., 0., 0., 0., 0., 0., 0.,\n",
       "        0., 0., 0., 0., 0., 0., 0., 0., 0., 0., 0., 0., 0., 0., 0., 0.,\n",
       "        0., 0., 0., 0., 0., 0., 0., 0., 0., 0., 0., 0., 0., 0., 0., 0.,\n",
       "        0., 0., 0., 0., 0., 0., 0., 0., 0., 0., 0., 0., 0., 0., 0., 0.,\n",
       "        0., 0., 0., 0., 0., 0., 0., 0., 0., 0., 0., 0., 0., 0., 0., 0.,\n",
       "        0., 0., 0., 0.],\n",
       "       [0., 1., 0., 0., 0., 0., 0., 0., 0., 0., 0., 0., 0., 0., 0., 0.,\n",
       "        0., 0., 0., 0., 0., 0., 0., 0., 0., 0., 0., 0., 0., 0., 0., 0.,\n",
       "        0., 0., 0., 0., 0., 0., 0., 0., 0., 0., 0., 0., 0., 0., 0., 0.,\n",
       "        0., 0., 0., 0., 0., 0., 0., 0., 0., 0., 0., 0., 0., 0., 0., 0.,\n",
       "        0., 0., 0., 0., 0., 0., 0., 0., 0., 0., 0., 0., 0., 0., 0., 0.,\n",
       "        0., 0., 0., 0., 0., 0., 0., 0., 0., 0., 0., 0., 0., 0., 0., 0.,\n",
       "        0., 0., 0., 0.]], dtype=float32)"
      ]
     },
     "execution_count": 23,
     "metadata": {},
     "output_type": "execute_result"
    }
   ],
   "source": [
    "y_label_train_OneHot[:5]"
   ]
  },
  {
   "cell_type": "code",
   "execution_count": null,
   "metadata": {},
   "outputs": [],
   "source": []
  },
  {
   "cell_type": "code",
   "execution_count": 24,
   "metadata": {
    "ExecuteTime": {
     "end_time": "2019-12-11T10:18:10.658816Z",
     "start_time": "2019-12-11T10:18:10.638632Z"
    }
   },
   "outputs": [],
   "source": [
    "coarse_label = [\n",
    "'apple', # id 0\n",
    "'aquarium_fish',\n",
    "'baby',\n",
    "'bear',\n",
    "'beaver',\n",
    "'bed',\n",
    "'bee',\n",
    "'beetle',\n",
    "'bicycle',\n",
    "'bottle',\n",
    "'bowl',\n",
    "'boy',\n",
    "'bridge',\n",
    "'bus',\n",
    "'butterfly',\n",
    "'camel',\n",
    "'can',\n",
    "'castle',\n",
    "'caterpillar',\n",
    "'cattle',\n",
    "'chair',\n",
    "'chimpanzee',\n",
    "'clock',\n",
    "'cloud',\n",
    "'cockroach',\n",
    "'couch',\n",
    "'crab',\n",
    "'crocodile',\n",
    "'cup',\n",
    "'dinosaur',\n",
    "'dolphin',\n",
    "'elephant',\n",
    "'flatfish',\n",
    "'forest',\n",
    "'fox',\n",
    "'girl',\n",
    "'hamster',\n",
    "'house',\n",
    "'kangaroo',\n",
    "'computer_keyboard',\n",
    "'lamp',\n",
    "'lawn_mower',\n",
    "'leopard',\n",
    "'lion',\n",
    "'lizard',\n",
    "'lobster',\n",
    "'man',\n",
    "'maple_tree',\n",
    "'motorcycle',\n",
    "'mountain',\n",
    "'mouse',\n",
    "'mushroom',\n",
    "'oak_tree',\n",
    "'orange',\n",
    "'orchid',\n",
    "'otter',\n",
    "'palm_tree',\n",
    "'pear',\n",
    "'pickup_truck',\n",
    "'pine_tree',\n",
    "'plain',\n",
    "'plate',\n",
    "'poppy',\n",
    "'porcupine',\n",
    "'possum',\n",
    "'rabbit',\n",
    "'raccoon',\n",
    "'ray',\n",
    "'road',\n",
    "'rocket',\n",
    "'rose',\n",
    "'sea',\n",
    "'seal',\n",
    "'shark',\n",
    "'shrew',\n",
    "'skunk',\n",
    "'skyscraper',\n",
    "'snail',\n",
    "'snake',\n",
    "'spider',\n",
    "'squirrel',\n",
    "'streetcar',\n",
    "'sunflower',\n",
    "'sweet_pepper',\n",
    "'table',\n",
    "'tank',\n",
    "'telephone',\n",
    "'television',\n",
    "'tiger',\n",
    "'tractor',\n",
    "'train',\n",
    "'trout',\n",
    "'tulip',\n",
    "'turtle',\n",
    "'wardrobe',\n",
    "'whale',\n",
    "'willow_tree',\n",
    "'wolf',\n",
    "'woman',\n",
    "'worm',\n",
    "]\n",
    "\n",
    "mapping = {\n",
    "'aquatic mammals': ['beaver', 'dolphin', 'otter', 'seal', 'whale'],\n",
    "'fish': ['aquarium_fish', 'flatfish', 'ray', 'shark', 'trout'],\n",
    "'flowers': ['orchid', 'poppy', 'rose', 'sunflower', 'tulip'],\n",
    "'food containers': ['bottle', 'bowl', 'can', 'cup', 'plate'],\n",
    "'fruit and vegetables': ['apple', 'mushroom', 'orange', 'pear', 'sweet_pepper'],\n",
    "'household electrical device': ['clock', 'computer_keyboard', 'lamp', 'telephone', 'television'],\n",
    "'household furniture': ['bed', 'chair', 'couch', 'table', 'wardrobe'],\n",
    "'insects': ['bee', 'beetle', 'butterfly', 'caterpillar', 'cockroach'],\n",
    "'large carnivores': ['bear', 'leopard', 'lion', 'tiger', 'wolf'],\n",
    "'large man-made outdoor things': ['bridge', 'castle', 'house', 'road', 'skyscraper'],\n",
    "'large natural outdoor scenes': ['cloud', 'forest', 'mountain', 'plain', 'sea'],\n",
    "'large omnivores and herbivores': ['camel', 'cattle', 'chimpanzee', 'elephant', 'kangaroo'],\n",
    "'medium-sized mammals': ['fox', 'porcupine', 'possum', 'raccoon', 'skunk'],\n",
    "'non-insect invertebrates': ['crab', 'lobster', 'snail', 'spider', 'worm'],\n",
    "'people': ['baby', 'boy', 'girl', 'man', 'woman'],\n",
    "'reptiles': ['crocodile', 'dinosaur', 'lizard', 'snake', 'turtle'],\n",
    "'small mammals': ['hamster', 'mouse', 'rabbit', 'shrew', 'squirrel'],\n",
    "'trees': ['maple_tree', 'oak_tree', 'palm_tree', 'pine_tree', 'willow_tree'],\n",
    "'vehicles 1': ['bicycle', 'bus', 'motorcycle', 'pickup_truck', 'train'],\n",
    "'vehicles 2': ['lawn_mower', 'rocket', 'streetcar', 'tank', 'tractor'],\n",
    "}"
   ]
  }
 ],
 "metadata": {
  "anaconda-cloud": {},
  "hide_input": false,
  "kernelspec": {
   "display_name": "Python 3",
   "language": "python",
   "name": "python3"
  },
  "language_info": {
   "codemirror_mode": {
    "name": "ipython",
    "version": 3
   },
   "file_extension": ".py",
   "mimetype": "text/x-python",
   "name": "python",
   "nbconvert_exporter": "python",
   "pygments_lexer": "ipython3",
   "version": "3.7.3"
  },
  "toc": {
   "base_numbering": 1,
   "nav_menu": {},
   "number_sections": true,
   "sideBar": true,
   "skip_h1_title": false,
   "title_cell": "Table of Contents",
   "title_sidebar": "Contents",
   "toc_cell": false,
   "toc_position": {},
   "toc_section_display": true,
   "toc_window_display": false
  },
  "varInspector": {
   "cols": {
    "lenName": 16,
    "lenType": 16,
    "lenVar": 40
   },
   "kernels_config": {
    "python": {
     "delete_cmd_postfix": "",
     "delete_cmd_prefix": "del ",
     "library": "var_list.py",
     "varRefreshCmd": "print(var_dic_list())"
    },
    "r": {
     "delete_cmd_postfix": ") ",
     "delete_cmd_prefix": "rm(",
     "library": "var_list.r",
     "varRefreshCmd": "cat(var_dic_list()) "
    }
   },
   "types_to_exclude": [
    "module",
    "function",
    "builtin_function_or_method",
    "instance",
    "_Feature"
   ],
   "window_display": false
  }
 },
 "nbformat": 4,
 "nbformat_minor": 1
}
